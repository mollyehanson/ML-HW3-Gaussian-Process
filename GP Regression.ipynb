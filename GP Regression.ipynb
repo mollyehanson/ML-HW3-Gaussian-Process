{
 "cells": [
  {
   "cell_type": "code",
   "execution_count": 1,
   "metadata": {
    "collapsed": false
   },
   "outputs": [
    {
     "name": "stderr",
     "output_type": "stream",
     "text": [
      "/Users/mollyhanson/anaconda/lib/python2.7/site-packages/matplotlib/font_manager.py:273: UserWarning: Matplotlib is building the font cache using fc-list. This may take a moment.\n",
      "  warnings.warn('Matplotlib is building the font cache using fc-list. This may take a moment.')\n"
     ]
    }
   ],
   "source": [
    "import pandas as pd\n",
    "import numpy as np\n",
    "import matplotlib.pyplot as plt\n",
    "%matplotlib inline\n",
    "\n",
    "# Read data files and update column names\n",
    "x_train=pd.read_csv('X_train.csv', header=None)\n",
    "y_train=pd.read_csv('y_train.csv', header=None)\n",
    "x_test=pd.read_csv('X_test.csv', header=None)\n",
    "y_test=pd.read_csv('y_test.csv', header=None)\n",
    "\n",
    "y_test = y_test.as_matrix()\n",
    "y_train = y_train.as_matrix()\n",
    "x_test = x_test.as_matrix()\n",
    "x_train = x_train.as_matrix()\n",
    "\n",
    "from scipy.spatial import distance"
   ]
  },
  {
   "cell_type": "code",
   "execution_count": 2,
   "metadata": {
    "collapsed": false
   },
   "outputs": [],
   "source": [
    "### PART A\n",
    "\n",
    "def getKernel(b,x1,x2):\n",
    "    \n",
    "    n1 = x1.shape[0]\n",
    "    n2 = x2.shape[0]\n",
    "    kern_list = []\n",
    "    kern_ij = pd.DataFrame()\n",
    "\n",
    "    for x_i in range(0,n1):\n",
    "        i = x1[x_i,:]\n",
    "        for x_j in range(0,n2):\n",
    "            j = x2[x_j,:]\n",
    "            dist = distance.euclidean(i, j)\n",
    "            dists = np.square(dist)\n",
    "            kern = np.exp(-dists/b)\n",
    "            kern_list.append(kern)\n",
    "    K = np.array(kern_list)\n",
    "    K_ij = K.reshape(len(x1),len(x2))\n",
    "\n",
    "    return K_ij\n",
    "\n",
    "\n",
    "\n",
    "def mu(b, var, xn, xx):\n",
    "    Kn = getKernel(b,xn,xn)\n",
    "    Kx = getKernel(b,xx,xn)\n",
    "    I = np.identity(len(xn))\n",
    "    V = (var*I)+Kn\n",
    "    V_inv = np.linalg.inv(V)\n",
    "    mu_x = np.dot((np.dot(Kx,V_inv)),y_train)\n",
    "    \n",
    "    return mu_x"
   ]
  },
  {
   "cell_type": "code",
   "execution_count": 3,
   "metadata": {
    "collapsed": false
   },
   "outputs": [],
   "source": [
    "### PART B\n",
    "# Predict on X-test and Calculate RMSE\n",
    "\n",
    "vals_b = [5,7,9,11,13,15]\n",
    "vals_var = [0.1,0.2,0.3,0.4,0.5,0.6,0.7,0.8,0.9,1]\n",
    "\n",
    "def getRMSE(b,var):\n",
    "    RMSE_list = []\n",
    "    for b in vals_b:\n",
    "        for var in vals_var:\n",
    "            print b, var\n",
    "            pred = mu(b,var,x_train,x_test)\n",
    "            RMSE = np.sqrt(np.mean((pred-y_test)**2))\n",
    "            RMSE_list.append((b,var,RMSE))\n",
    "    return RMSE_list"
   ]
  },
  {
   "cell_type": "code",
   "execution_count": 14,
   "metadata": {
    "collapsed": false
   },
   "outputs": [
    {
     "data": {
      "text/plain": [
       "array([[ 1.        ,  0.7115299 ,  0.36977171, ...,  0.11716528,\n",
       "         0.53499833,  0.23803543],\n",
       "       [ 0.7115299 ,  1.        ,  0.29806524, ...,  0.40927321,\n",
       "         0.51508901,  0.25798781],\n",
       "       [ 0.36977171,  0.29806524,  1.        , ...,  0.07063862,\n",
       "         0.17776147,  0.02953842],\n",
       "       ..., \n",
       "       [ 0.11716528,  0.40927321,  0.07063862, ...,  1.        ,\n",
       "         0.22676265,  0.07884375],\n",
       "       [ 0.53499833,  0.51508901,  0.17776147, ...,  0.22676265,\n",
       "         1.        ,  0.43885452],\n",
       "       [ 0.23803543,  0.25798781,  0.02953842, ...,  0.07884375,\n",
       "         0.43885452,  1.        ]])"
      ]
     },
     "execution_count": 14,
     "metadata": {},
     "output_type": "execute_result"
    }
   ],
   "source": [
    "getKernel(5,x_train,x_train)"
   ]
  },
  {
   "cell_type": "code",
   "execution_count": 4,
   "metadata": {
    "collapsed": false
   },
   "outputs": [
    {
     "name": "stdout",
     "output_type": "stream",
     "text": [
      "5 0.1\n",
      "5 0.2\n",
      "5 0.3\n",
      "5 0.4\n",
      "5 0.5\n",
      "5 0.6\n",
      "5 0.7\n",
      "5 0.8\n",
      "5 0.9\n",
      "5 1\n",
      "7 0.1\n",
      "7 0.2\n",
      "7 0.3\n",
      "7 0.4\n",
      "7 0.5\n",
      "7 0.6\n",
      "7 0.7\n",
      "7 0.8\n",
      "7 0.9\n",
      "7 1\n",
      "9 0.1\n",
      "9 0.2\n",
      "9 0.3\n",
      "9 0.4\n",
      "9 0.5\n",
      "9 0.6\n",
      "9 0.7\n",
      "9 0.8\n",
      "9 0.9\n",
      "9 1\n",
      "11 0.1\n",
      "11 0.2\n",
      "11 0.3\n",
      "11 0.4\n",
      "11 0.5\n",
      "11 0.6\n",
      "11 0.7\n",
      "11 0.8\n",
      "11 0.9\n",
      "11 1\n",
      "13 0.1\n",
      "13 0.2\n",
      "13 0.3\n",
      "13 0.4\n",
      "13 0.5\n",
      "13 0.6\n",
      "13 0.7\n",
      "13 0.8\n",
      "13 0.9\n",
      "13 1\n",
      "15 0.1\n",
      "15 0.2\n",
      "15 0.3\n",
      "15 0.4\n",
      "15 0.5\n",
      "15 0.6\n",
      "15 0.7\n",
      "15 0.8\n",
      "15 0.9\n",
      "15 1\n",
      "The lowest RMSE is 1.89050711498 when b=5 and var=0.4\n"
     ]
    }
   ],
   "source": [
    "totalRMSE = getRMSE(vals_b,vals_var)\n",
    "RMSE_vals = [x[2] for x in totalRMSE]\n",
    "RMSE_array = np.array(RMSE_vals)\n",
    "RMSE_table = RMSE_array.reshape(len(vals_b),len(vals_var))\n",
    "df = pd.DataFrame(RMSE_table)\n",
    "df\n",
    "print \"The lowest RMSE is\", np.min(df.iloc[:,:].values), \"when b=11 and var=0.1\""
   ]
  },
  {
   "cell_type": "code",
   "execution_count": null,
   "metadata": {
    "collapsed": false
   },
   "outputs": [],
   "source": [
    "### PART D"
   ]
  },
  {
   "cell_type": "code",
   "execution_count": 6,
   "metadata": {
    "collapsed": false
   },
   "outputs": [],
   "source": [
    "x_testdf = pd.DataFrame(x_test)\n",
    "x_traindf = pd.DataFrame(x_train)\n",
    "\n",
    "x_test4 = x_testdf.iloc[:,3].as_matrix()\n",
    "x_train4 = x_traindf.iloc[:,3].as_matrix()\n",
    "\n",
    "xtrain4_col = x_train4[:,None]\n",
    "xtest4_col = x_test4[:,None]\n",
    "\n",
    "mu4_train = mu(5,2,xtrain4_col,xtrain4_col)"
   ]
  },
  {
   "cell_type": "code",
   "execution_count": 7,
   "metadata": {
    "collapsed": false
   },
   "outputs": [],
   "source": [
    "plot4_df = pd.DataFrame(x_train4)\n",
    "plot4_df.columns = ['x4']\n",
    "\n",
    "y_traindf = pd.DataFrame(y_train)\n",
    "y_traindf.columns = ['y']\n",
    "\n",
    "mu4_traindf = pd.DataFrame(mu4_train)\n",
    "mu4_traindf.columns = ['mu_4']\n",
    "\n",
    "plot = pd.concat([plot4_df, y_traindf], axis=1)\n",
    "plot2 = pd.concat([plot, mu4_traindf], axis=1)\n",
    "\n",
    "\n",
    "result=plot2.sort_values(by=[\"x4\"])\n",
    "\n"
   ]
  },
  {
   "cell_type": "code",
   "execution_count": 9,
   "metadata": {
    "collapsed": false
   },
   "outputs": [],
   "source": [
    "result = result.as_matrix()"
   ]
  },
  {
   "cell_type": "code",
   "execution_count": 10,
   "metadata": {
    "collapsed": false
   },
   "outputs": [
    {
     "data": {
      "text/plain": [
       "<matplotlib.legend.Legend at 0x11810ef10>"
      ]
     },
     "execution_count": 10,
     "metadata": {},
     "output_type": "execute_result"
    },
    {
     "data": {
      "image/png": "[encoded data removed]",
      "text/plain": [
       "<matplotlib.figure.Figure at 0x11813c190>"
      ]
     },
     "metadata": {},
     "output_type": "display_data"
    }
   ],
   "source": [
    "x_plot = result[:,0]\n",
    "y_plot = result[:,1]\n",
    "pred_plot = result[:,2]\n",
    "\n",
    "plt.scatter(x_plot,y_plot)\n",
    "plt.plot(x_plot,pred_plot,'-r')\n",
    "plt.xlabel('x[4]')\n",
    "plt.ylabel('y')\n",
    "plt.title('x[4] versus y for each point')\n",
    "plt.legend(['GP prediction','True'])"
   ]
  },
  {
   "cell_type": "code",
   "execution_count": null,
   "metadata": {
    "collapsed": false
   },
   "outputs": [],
   "source": []
  },
  {
   "cell_type": "code",
   "execution_count": null,
   "metadata": {
    "collapsed": false
   },
   "outputs": [],
   "source": []
  },
  {
   "cell_type": "code",
   "execution_count": null,
   "metadata": {
    "collapsed": true
   },
   "outputs": [],
   "source": []
  }
 ],
 "metadata": {
  "anaconda-cloud": {},
  "kernelspec": {
   "display_name": "Python [Root]",
   "language": "python",
   "name": "Python [Root]"
  },
  "language_info": {
   "codemirror_mode": {
    "name": "ipython",
    "version": 2
   },
   "file_extension": ".py",
   "mimetype": "text/x-python",
   "name": "python",
   "nbconvert_exporter": "python",
   "pygments_lexer": "ipython2",
   "version": "2.7.12"
  }
 },
 "nbformat": 4,
 "nbformat_minor": 0
}
